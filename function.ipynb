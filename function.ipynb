{
 "cells": [
  {
   "cell_type": "code",
   "execution_count": 1,
   "id": "b5ef2192",
   "metadata": {},
   "outputs": [],
   "source": [
    "def factorial(n):\n",
    "    if n == 0:\n",
    "        return 1\n",
    "    else:\n",
    "        return n*factorial(n-1)\n"
   ]
  },
  {
   "cell_type": "code",
   "execution_count": 2,
   "id": "1984bff0",
   "metadata": {},
   "outputs": [
    {
     "name": "stdout",
     "output_type": "stream",
     "text": [
      "1\n",
      "1\n",
      "2\n",
      "6\n",
      "24\n"
     ]
    }
   ],
   "source": [
    "for i in range(5):\n",
    "    print(factorial(i))\n"
   ]
  },
  {
   "cell_type": "code",
   "execution_count": 3,
   "id": "c26804c0",
   "metadata": {},
   "outputs": [],
   "source": [
    "def permutation(n, k):\n",
    "    return int(factorial(n)/(factorial(k)*factorial(n-k)))\n"
   ]
  },
  {
   "cell_type": "code",
   "execution_count": 4,
   "id": "edc5d914",
   "metadata": {},
   "outputs": [
    {
     "data": {
      "text/plain": [
       "10"
      ]
     },
     "execution_count": 4,
     "metadata": {},
     "output_type": "execute_result"
    }
   ],
   "source": [
    "permutation(5, 2)\n"
   ]
  },
  {
   "cell_type": "code",
   "execution_count": 5,
   "id": "195c82e7",
   "metadata": {},
   "outputs": [],
   "source": [
    "def combination(n, k):\n",
    "    return int(permutation(n, k)/factorial(k))\n"
   ]
  },
  {
   "cell_type": "code",
   "execution_count": 6,
   "id": "f36f4ad5",
   "metadata": {
    "scrolled": true
   },
   "outputs": [
    {
     "data": {
      "text/plain": [
       "5"
      ]
     },
     "execution_count": 6,
     "metadata": {},
     "output_type": "execute_result"
    }
   ],
   "source": [
    "combination(5, 2)\n"
   ]
  },
  {
   "cell_type": "code",
   "execution_count": 7,
   "id": "65dc900b",
   "metadata": {},
   "outputs": [],
   "source": [
    "def binomialcoefficient(n):\n",
    "    return \" \".join(str(permutation(n, k)) for k in range(n+1))\n"
   ]
  },
  {
   "cell_type": "code",
   "execution_count": 8,
   "id": "18bd0451",
   "metadata": {},
   "outputs": [
    {
     "name": "stdout",
     "output_type": "stream",
     "text": [
      "1 6 15 20 15 6 1\n"
     ]
    }
   ],
   "source": [
    "print(binomialcoefficient(6))\n"
   ]
  }
 ],
 "metadata": {
  "interpreter": {
   "hash": "27a6c8937a9f92bcd06576956a99c44db1d2290369598dc087061a6b74c3f028"
  },
  "kernelspec": {
   "display_name": "Python 3.10.4 64-bit (windows store)",
   "language": "python",
   "name": "python3"
  },
  "language_info": {
   "codemirror_mode": {
    "name": "ipython",
    "version": 3
   },
   "file_extension": ".py",
   "mimetype": "text/x-python",
   "name": "python",
   "nbconvert_exporter": "python",
   "pygments_lexer": "ipython3",
   "version": "3.10.5"
  }
 },
 "nbformat": 4,
 "nbformat_minor": 5
}
