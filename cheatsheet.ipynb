{
 "cells": [
  {
   "cell_type": "code",
   "execution_count": 1,
   "id": "31305c67",
   "metadata": {},
   "outputs": [
    {
     "name": "stdout",
     "output_type": "stream",
     "text": [
      "平年\n",
      "平年\n",
      "平年\n"
     ]
    }
   ],
   "source": [
    "year = eval(input())\n",
    "# if elif else\n",
    "if year % 400 == 0:\n",
    "    print(\"闰年\")\n",
    "elif year % 4 == 0 and year % 100 != 0:\n",
    "    print(\"闰年\")\n",
    "else:\n",
    "    print(\"平年\")\n",
    "# if else\n",
    "if year % 4 == 0 and (year % 100 != 0 or year % 400 == 0):\n",
    "    print(\"闰年\")\n",
    "else:\n",
    "    print(\"平年\")\n",
    "# conditional expression\n",
    "print(\"闰年\") if year % 4 == 0 and (year %\n",
    "                                  100 != 0 or year % 400 == 0) else print(\"平年\")\n"
   ]
  },
  {
   "cell_type": "code",
   "execution_count": 2,
   "id": "8d599ba5",
   "metadata": {},
   "outputs": [
    {
     "name": "stdout",
     "output_type": "stream",
     "text": [
      "平年\n"
     ]
    }
   ],
   "source": [
    "def leap(year):\n",
    "    return \"闰年\" if year % 4 == 0 and (year % 100 != 0 or year % 400 == 0) else \"平年\"\n",
    "\n",
    "\n",
    "def leap(year):\n",
    "    if year % 400 == 0:\n",
    "        return \"闰年\"\n",
    "    elif year % 4 == 0 and year % 100 != 0:\n",
    "        return \"闰年\"\n",
    "    else:\n",
    "        return \"平年\"\n",
    "\n",
    "\n",
    "def leap(year):\n",
    "    if year % 4 == 0 and (year % 100 != 0 or year % 400 == 0):\n",
    "        return \"闰年\"\n",
    "    else:\n",
    "        return \"平年\"\n",
    "\n",
    "\n",
    "if __name__ == \"__main__\":\n",
    "    print(leap(2022))\n"
   ]
  },
  {
   "cell_type": "markdown",
   "id": "86ca2e20",
   "metadata": {},
   "source": [
    "一元二次方程 $ax^2+bx+c=0 \\quad (a \\neq 0)$\n",
    "\n",
    "$\\Delta=b^2-4ac$\n",
    "\n",
    "$x_1=\\frac{-b+\\sqrt{b^2-4ac}}{2a} \\quad x_2=\\frac{-b-\\sqrt{b^2-4ac}}{2a}$"
   ]
  },
  {
   "cell_type": "code",
   "execution_count": 3,
   "id": "f4ee9312",
   "metadata": {},
   "outputs": [],
   "source": [
    "def solveset(a, b, c):\n",
    "    delta = b**2-4*a*c\n",
    "    return (-b+delta**0.5)/(2*a), (-b-delta**0.5)/(2*a)\n"
   ]
  },
  {
   "cell_type": "code",
   "execution_count": 4,
   "id": "398d56b3",
   "metadata": {},
   "outputs": [
    {
     "data": {
      "text/plain": [
       "(1.0, -1.0)"
      ]
     },
     "execution_count": 4,
     "metadata": {},
     "output_type": "execute_result"
    }
   ],
   "source": [
    "solveset(1, 0, -1)\n"
   ]
  },
  {
   "cell_type": "code",
   "execution_count": 5,
   "id": "4925f607",
   "metadata": {},
   "outputs": [],
   "source": [
    "def factorial(n):\n",
    "    \"\"\"阶乘\"\"\"\n",
    "    if n == 0:\n",
    "        return 1\n",
    "    else:\n",
    "        return n*factorial(n-1)\n"
   ]
  },
  {
   "cell_type": "code",
   "execution_count": 6,
   "id": "9a45d51b",
   "metadata": {},
   "outputs": [
    {
     "data": {
      "text/plain": [
       "120"
      ]
     },
     "execution_count": 6,
     "metadata": {},
     "output_type": "execute_result"
    }
   ],
   "source": [
    "factorial(5)\n"
   ]
  },
  {
   "cell_type": "code",
   "execution_count": 7,
   "id": "cf58daed",
   "metadata": {},
   "outputs": [],
   "source": [
    "def permutation(n, k):\n",
    "    \"\"\"排列\"\"\"\n",
    "    return int(factorial(n)/factorial(n-k))\n"
   ]
  },
  {
   "cell_type": "code",
   "execution_count": 8,
   "id": "3db5fdd6",
   "metadata": {},
   "outputs": [
    {
     "name": "stdout",
     "output_type": "stream",
     "text": [
      "20\n"
     ]
    }
   ],
   "source": [
    "print(permutation(5, 2))\n"
   ]
  },
  {
   "cell_type": "code",
   "execution_count": 9,
   "id": "e6080327",
   "metadata": {},
   "outputs": [],
   "source": [
    "def combination(n, k):\n",
    "    \"\"\"组合\"\"\"\n",
    "    return int(permutation(n, k)/factorial(k))\n"
   ]
  },
  {
   "cell_type": "code",
   "execution_count": 10,
   "id": "531015b3",
   "metadata": {},
   "outputs": [
    {
     "name": "stdout",
     "output_type": "stream",
     "text": [
      "10\n"
     ]
    }
   ],
   "source": [
    "print(combination(5, 2))\n"
   ]
  },
  {
   "cell_type": "code",
   "execution_count": 11,
   "id": "0121de6b",
   "metadata": {},
   "outputs": [],
   "source": [
    "def binomialcoefficient(n):\n",
    "    \"\"\"二项式系数\"\"\"\n",
    "    return [int(factorial(n)/(factorial(k)*factorial(n-k))) for k in range(n+1)]\n"
   ]
  },
  {
   "cell_type": "code",
   "execution_count": 12,
   "id": "7565d477",
   "metadata": {},
   "outputs": [
    {
     "data": {
      "text/plain": [
       "[1, 4, 6, 4, 1]"
      ]
     },
     "execution_count": 12,
     "metadata": {},
     "output_type": "execute_result"
    }
   ],
   "source": [
    "binomialcoefficient(4)\n"
   ]
  },
  {
   "cell_type": "code",
   "execution_count": 13,
   "id": "697779ea",
   "metadata": {},
   "outputs": [],
   "source": [
    "def fibonacci(n):\n",
    "    \"\"\"斐波那契数\"\"\"\n",
    "    if n == 0:\n",
    "        return 0\n",
    "    elif n == 1:\n",
    "        return 1\n",
    "    else:\n",
    "        return fibonacci(n-1)+fibonacci(n-2)\n"
   ]
  },
  {
   "cell_type": "code",
   "execution_count": 14,
   "id": "5c274f40",
   "metadata": {
    "scrolled": true
   },
   "outputs": [
    {
     "data": {
      "text/plain": [
       "55"
      ]
     },
     "execution_count": 14,
     "metadata": {},
     "output_type": "execute_result"
    }
   ],
   "source": [
    "fibonacci(10)\n"
   ]
  },
  {
   "cell_type": "code",
   "execution_count": 15,
   "id": "974bd8b3",
   "metadata": {},
   "outputs": [
    {
     "name": "stdout",
     "output_type": "stream",
     "text": [
      "壬寅\n"
     ]
    }
   ],
   "source": [
    "stem = \"甲乙丙丁戊己庚辛壬癸\"\n",
    "branch = \"子丑寅卯辰巳午未申酉戌亥\"\n",
    "year = eval(input())\n",
    "print(stem[(year-4) % 10]+branch[(year-4) % 12])\n"
   ]
  },
  {
   "cell_type": "code",
   "execution_count": 16,
   "id": "51ba458d",
   "metadata": {},
   "outputs": [],
   "source": [
    "stem = \"甲乙丙丁戊己庚辛壬癸\"\n",
    "branch = \"子丑寅卯辰巳午未申酉戌亥\"\n",
    "\n",
    "\n",
    "def stembranch(year):\n",
    "    \"\"\"干支纪年\"\"\"\n",
    "    return stem[(year-4) % 10]+branch[(year-4) % 12]\n"
   ]
  },
  {
   "cell_type": "code",
   "execution_count": 17,
   "id": "2e208a35",
   "metadata": {},
   "outputs": [
    {
     "data": {
      "text/plain": [
       "'壬寅'"
      ]
     },
     "execution_count": 17,
     "metadata": {},
     "output_type": "execute_result"
    }
   ],
   "source": [
    "stembranch(2022)\n"
   ]
  },
  {
   "cell_type": "code",
   "execution_count": 18,
   "id": "f4d4d68d",
   "metadata": {},
   "outputs": [],
   "source": [
    "class StemBranch:\n",
    "    stem = \"甲乙丙丁戊己庚辛壬癸\"\n",
    "    branch = \"子丑寅卯辰巳午未申酉戌亥\"\n",
    "    zodiac = \"鼠牛虎兔龙蛇马羊猴鸡狗猪\"\n",
    "\n",
    "    def __init__(self):\n",
    "        pass\n",
    "\n",
    "    def stembranch(self, year):\n",
    "        return self.stem[(year-4) % 10]+self.branch[(year-4) % 12]\n"
   ]
  },
  {
   "cell_type": "code",
   "execution_count": 19,
   "id": "3dcc328c",
   "metadata": {},
   "outputs": [
    {
     "data": {
      "text/plain": [
       "'壬寅'"
      ]
     },
     "execution_count": 19,
     "metadata": {},
     "output_type": "execute_result"
    }
   ],
   "source": [
    "StemBranch().stembranch(2022)\n"
   ]
  },
  {
   "cell_type": "code",
   "execution_count": 20,
   "id": "146855f4",
   "metadata": {},
   "outputs": [],
   "source": [
    "class Zodiac(StemBranch):\n",
    "    def __init__(self):\n",
    "        super().__init__\n",
    "\n",
    "    def chinesezodiac(self, year):\n",
    "        \"\"\"生肖纪年\"\"\"\n",
    "        return self.zodiac[(year-4) % 12]\n"
   ]
  },
  {
   "cell_type": "code",
   "execution_count": 21,
   "id": "a0e7837d",
   "metadata": {},
   "outputs": [
    {
     "data": {
      "text/plain": [
       "'虎'"
      ]
     },
     "execution_count": 21,
     "metadata": {},
     "output_type": "execute_result"
    }
   ],
   "source": [
    "Zodiac().chinesezodiac(2022)\n"
   ]
  }
 ],
 "metadata": {
  "interpreter": {
   "hash": "40ea231ce006ed65b013ba3e9b5a48267321b4d32b910ea3a649228a606377c3"
  },
  "kernelspec": {
   "display_name": "Python 3.10.4 64-bit (windows store)",
   "language": "python",
   "name": "python3"
  },
  "language_info": {
   "codemirror_mode": {
    "name": "ipython",
    "version": 3
   },
   "file_extension": ".py",
   "mimetype": "text/x-python",
   "name": "python",
   "nbconvert_exporter": "python",
   "pygments_lexer": "ipython3",
   "version": "3.10.5"
  }
 },
 "nbformat": 4,
 "nbformat_minor": 5
}
